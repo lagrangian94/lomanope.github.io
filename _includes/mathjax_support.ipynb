{
 "cells": [
  {
   "cell_type": "code",
   "execution_count": null,
   "metadata": {},
   "outputs": [],
   "source": [
    "<script type=\"text/x-mathjax-config\">\n",
    "MathJax.Hub.Config({\n",
    "    TeX: {\n",
    "      equationNumbers: {\n",
    "        autoNumber: \"AMS\"\n",
    "      }\n",
    "    },\n",
    "    tex2jax: {\n",
    "    inlineMath: [ ['$', '$'] ],\n",
    "    displayMath: [ ['$$', '$$'] ],\n",
    "    processEscapes: true,\n",
    "  }\n",
    "});\n",
    "MathJax.Hub.Register.MessageHook(\"Math Processing Error\",function (message) {\n",
    "\t  alert(\"Math Processing Error: \"+message[1]);\n",
    "\t});\n",
    "MathJax.Hub.Register.MessageHook(\"TeX Jax - parse error\",function (message) {\n",
    "\t  alert(\"Math Processing Error: \"+message[1]);\n",
    "\t});\n",
    "</script>\n",
    "<script type=\"text/javascript\" async\n",
    "  src=\"https://cdn.mathjax.org/mathjax/latest/MathJax.js?config=TeX-MML-AM_CHTML\">\n",
    "</script>"
   ]
  }
 ],
 "metadata": {
  "kernelspec": {
   "display_name": "Python 3",
   "language": "python",
   "name": "python3"
  },
  "language_info": {
   "codemirror_mode": {
    "name": "ipython",
    "version": 3
   },
   "file_extension": ".py",
   "mimetype": "text/x-python",
   "name": "python",
   "nbconvert_exporter": "python",
   "pygments_lexer": "ipython3",
   "version": "3.8.3"
  }
 },
 "nbformat": 4,
 "nbformat_minor": 4
}
